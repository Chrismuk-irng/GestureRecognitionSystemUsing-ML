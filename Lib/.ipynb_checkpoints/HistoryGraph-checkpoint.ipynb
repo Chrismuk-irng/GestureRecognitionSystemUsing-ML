{
 "cells": [
  {
   "cell_type": "code",
   "execution_count": 1,
   "id": "2fe447b9-91e8-4804-90ed-5a8d38acf18b",
   "metadata": {},
   "outputs": [],
   "source": [
    "from tensorflow.keras.callbacks import Callback\n",
    "import matplotlib.pyplot as plt"
   ]
  },
  {
   "cell_type": "code",
   "execution_count": 2,
   "id": "366a79cf-7e82-4d85-9abb-02f5138f9e86",
   "metadata": {},
   "outputs": [],
   "source": [
    "import json"
   ]
  },
  {
   "cell_type": "code",
   "execution_count": 5,
   "id": "e787e031-91e6-493c-8163-05860e30a7e4",
   "metadata": {},
   "outputs": [],
   "source": [
    "class HistoryGraph(Callback):\n",
    "        def __init__(self, model_path_name):\n",
    "             self.model_path_name = model_path_name\n",
    "\n",
    "        def on_train_begin(self , logs=None):\n",
    "             self.epoch = []\n",
    "             self.history = {}\n",
    "\n",
    "        def on_epoch_end_(self, epoch, logs=None):\n",
    "             logs = logs or {}\n",
    "             self.epoch.append(epoch)\n",
    "             for k, v in logs.items():\n",
    "                 self.history.setdefault(k, []).append(v)\n",
    "             self.save_training_history(self.model_path_name, self.history)\n",
    "       \n",
    "#        def save_training_history(self):\n"
   ]
  },
  {
   "cell_type": "code",
   "execution_count": 3,
   "id": "f8573e97-6b2b-4171-9e48-02692016d80d",
   "metadata": {},
   "outputs": [],
   "source": [
    "def save_training_history(self, path, history):\n",
    "    for metric in history:\n",
    "        if \"val\" not in metric:\n",
    "            plt.clf()\n",
    "            history[metric] = list(map(float, history[metric]))\n",
    "            plt.plot(history[metric])\n",
    "            plt.plot(history[\"val \" + metric])\n",
    "            plt.title('model' + metric)\n",
    "            plt.ylabel(metric)\n",
    "            plt.xlabel('epoch')\n",
    "            plt.legend(['train' , 'test'], loc= 'upper left')\n",
    "            plt.gcf().savefig(path +'/' +metric+ ' history'+ 'jpg' )\n",
    "    with open(path + ' /log' + ' json ' , 'w') as fp:\n",
    "        json.dump(history, fp, indent=True)"
   ]
  },
  {
   "cell_type": "code",
   "execution_count": null,
   "id": "fcab0f43-0668-4649-a39b-c6342e536566",
   "metadata": {},
   "outputs": [],
   "source": []
  }
 ],
 "metadata": {
  "kernelspec": {
   "display_name": "HandGestureRecognitionSystem",
   "language": "python",
   "name": "handgesturerecognitionsystem"
  },
  "language_info": {
   "codemirror_mode": {
    "name": "ipython",
    "version": 3
   },
   "file_extension": ".py",
   "mimetype": "text/x-python",
   "name": "python",
   "nbconvert_exporter": "python",
   "pygments_lexer": "ipython3",
   "version": "3.10.13"
  }
 },
 "nbformat": 4,
 "nbformat_minor": 5
}
