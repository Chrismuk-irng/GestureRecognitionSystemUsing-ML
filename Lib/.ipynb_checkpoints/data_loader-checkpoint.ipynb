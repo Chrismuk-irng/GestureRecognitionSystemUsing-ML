{
 "cells": [
  {
   "cell_type": "code",
   "execution_count": 1,
   "id": "ef52baec-0234-4d30-b3da-94036eca2697",
   "metadata": {},
   "outputs": [],
   "source": [
    "import pandas as pd\n",
    "import numpy as np"
   ]
  },
  {
   "cell_type": "code",
   "execution_count": 2,
   "id": "d8ed9494-0783-4581-bc33-aa02c8d26371",
   "metadata": {},
   "outputs": [],
   "source": [
    "\n",
    "class DataLoader:\n",
    "    def __init__(self, path_vid, path_labels, path_train=None, path_val=None, path_test=None):\n",
    "        self.path_vid = path_vid\n",
    "        self.path_labels = path_labels\n",
    "        self.path_train = path_train\n",
    "        self.path_val = path_val\n",
    "        self.path_test = path_test\n",
    "        self.get_labels(path_labels)\n",
    "        if self.path_train:\n",
    "            self.train_df = self.load_video_labels(self.path_train)\n",
    "        if self.path_val:\n",
    "            self.val_df = self.load_video_labels(self.path_val)\n",
    "        if self.path_test:\n",
    "            self.test_df = self.load_video_labels(self.path_test, mode=\"input\")\n",
    "\n",
    "    def get_labels(self, path_labels):\n",
    "        self.labels_df = pd.read_csv(path_labels, names=['label'])\n",
    "        self.labels = [str(label[0]) for label in self.labels_df.values]\n",
    "        self.n_labels = len(self.labels)\n",
    "        self.label_to_int = {label: i for i, label in enumerate(self.labels)}\n",
    "        self.int_to_label = {i: label for label, i in self.label_to_int.items()}\n",
    "\n",
    "    def load_video_labels(self, path_subset, mode=\"label\"):\n",
    "        if mode == \"input\":\n",
    "            names = [\"video_id\"]\n",
    "        elif mode == \"label\":\n",
    "            names = [\"video_id\", \"label\"]\n",
    "        \n",
    "        df = pd.read_csv(path_subset, sep=\",\", names=names)\n",
    "        \n",
    "        if mode == \"label\":\n",
    "            # Convert string labels to integers\n",
    "            df[\"label\"] = df[\"label\"].map(self.label_to_int)\n",
    "        \n",
    "        return df\n",
    "\n"
   ]
  },
  {
   "cell_type": "code",
   "execution_count": null,
   "id": "8bda7757-94b5-4093-b826-eb45717119d1",
   "metadata": {},
   "outputs": [],
   "source": []
  },
  {
   "cell_type": "code",
   "execution_count": null,
   "id": "72e0ea39-a30d-4d04-8778-d70ca5ed8577",
   "metadata": {},
   "outputs": [],
   "source": []
  }
 ],
 "metadata": {
  "kernelspec": {
   "display_name": "HandGestureRecognitionSystem",
   "language": "python",
   "name": "handgesturerecognitionsystem"
  },
  "language_info": {
   "codemirror_mode": {
    "name": "ipython",
    "version": 3
   },
   "file_extension": ".py",
   "mimetype": "text/x-python",
   "name": "python",
   "nbconvert_exporter": "python",
   "pygments_lexer": "ipython3",
   "version": "3.10.13"
  }
 },
 "nbformat": 4,
 "nbformat_minor": 5
}
