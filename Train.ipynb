{
 "cells": [
  {
   "cell_type": "code",
   "execution_count": 1,
   "id": "21fff905-757b-4764-bd7b-8e61827b181e",
   "metadata": {},
   "outputs": [],
   "source": [
    "from Lib.data_loader import DataLoader\n",
    "from Lib.resnet_model import Resnet3DBuilder\n",
    "from Lib.HistoryGraph import HistoryGraph\n",
    "import Lib.image as img\n",
    "from Lib.utils import mkdirs\n",
    "import os\n",
    "\n",
    "\n"
   ]
  },
  {
   "cell_type": "code",
   "execution_count": 2,
   "id": "c758ef93-3811-4048-82aa-ed9f0a7ae37f",
   "metadata": {},
   "outputs": [],
   "source": [
    "from math import ceil"
   ]
  },
  {
   "cell_type": "code",
   "execution_count": 3,
   "id": "af3f2f93-15c3-421f-bd0b-07870a9ddf17",
   "metadata": {},
   "outputs": [],
   "source": [
    "from keras.optimizers import SGD"
   ]
  },
  {
   "cell_type": "code",
   "execution_count": 4,
   "id": "2eb9912c-d7d2-400e-9077-b8ac9cfd5f08",
   "metadata": {},
   "outputs": [],
   "source": [
    "from keras.callbacks import ModelCheckpoint\n"
   ]
  },
  {
   "cell_type": "code",
   "execution_count": 5,
   "id": "df91b5e5-6335-4e28-b409-ed7d8a2d56ee",
   "metadata": {},
   "outputs": [],
   "source": [
    "target_size = (64,95)\n",
    "nb_frames = 10\n",
    "skip = 1\n",
    "nb_classes = 27\n",
    "#reg_factor = 0.0001     \n",
    "batch_size = 64\n",
    "input_shape = (nb_frames, ) + target_size + (3,)\n"
   ]
  },
  {
   "cell_type": "code",
   "execution_count": 6,
   "id": "647c971e-b230-4a80-a936-7000a10e6b46",
   "metadata": {},
   "outputs": [],
   "source": [
    "workers = 8\n",
    "use_multiprocessing = False\n",
    "max_queue_size = 20\n"
   ]
  },
  {
   "cell_type": "code",
   "execution_count": 7,
   "id": "f6e910f7-bfe2-4b9c-9874-ad4040bf24eb",
   "metadata": {},
   "outputs": [],
   "source": [
    "data_root = r\"C:\\Users\\USER\\Documents\\Dataset\"\n",
    "data_vid = r\"C:\\Users\\USER\\Documents\\Dataset\\videos\"\n",
    "csv_labels = r\"C:\\Users\\USER\\Documents\\Dataset\\jester-v1-labels.csv\"\n",
    "csv_train = r\"C:\\Users\\USER\\Documents\\Dataset\\jester-v1-train.csv\"\n",
    "csv_val = r\"C:\\Users\\USER\\Documents\\Dataset\\jester-v1-validation.csv\"\n",
    "csv_test = r\"C:\\Users\\USER\\Documents\\Dataset\\jester-v1-test.csv\"\n",
    "model_name = 'resnet_3d_model'\n",
    "data_model = r\"C:\\Users\\USER\\Documents\\HandGestureRecognitionSystemProject\\model\"\n"
   ]
  },
  {
   "cell_type": "code",
   "execution_count": 8,
   "id": "18a8cdf1-fa84-4e62-b573-81f4d3b6dd66",
   "metadata": {},
   "outputs": [
    {
     "name": "stdout",
     "output_type": "stream",
     "text": [
      "path_vid exists: True\n",
      "path_labels exists: True\n",
      "path_train exists: True\n",
      "path_val exists: True\n",
      "path_test exists: True\n"
     ]
    }
   ],
   "source": [
    "path_model = os.path.join(data_root, data_model, model_name)\n",
    "path_vid = os.path.join(data_root, data_vid)\n",
    "path_labels = os.path.join(data_root, csv_labels)\n",
    "path_train = os.path.join(data_root, csv_train)\n",
    "path_val = os.path.join(data_root, csv_val)\n",
    "path_test = os.path.join(data_root, csv_test)\n",
    "\n",
    "\n",
    "print(f\"path_vid exists: {os.path.exists(path_vid)}\")\n",
    "print(f\"path_labels exists: {os.path.exists(path_labels)}\")\n",
    "print(f\"path_train exists: {os.path.exists(path_train)}\")\n",
    "print(f\"path_val exists: {os.path.exists(path_val)}\")\n",
    "print(f\"path_test exists: {os.path.exists(path_test)}\")"
   ]
  },
  {
   "cell_type": "code",
   "execution_count": 9,
   "id": "7fddfe11-58a7-475c-8c12-309d168f9adc",
   "metadata": {},
   "outputs": [],
   "source": [
    "# Create DataLoader instance\n",
    "data = DataLoader(\n",
    "    path_vid=path_vid,\n",
    "    path_labels=path_labels,\n",
    "    path_train=path_train,\n",
    "    path_val=path_val,\n",
    "    path_test=path_test\n",
    ")\n",
    "mkdirs(path_model, 0o755)\n",
    "mkdirs(os.path.join(path_model,  \"graphs\"), 0o755)\n",
    "\n",
    "\n"
   ]
  },
  {
   "cell_type": "code",
   "execution_count": 10,
   "id": "a63b2d51-2b23-4ae6-8755-0402f52eae89",
   "metadata": {},
   "outputs": [
    {
     "name": "stdout",
     "output_type": "stream",
     "text": [
      "Found 118562 video folders belonging to 27 classes.\n",
      "Found 14787 video folders belonging to 27 classes.\n"
     ]
    },
    {
     "data": {
      "text/plain": [
       "\"\\ngen_train = gen.flow_video_from_dataframe(data.train_df, path_vid, path_classes=path_labels, x_col='video id', y_col='labels', target_size=target_size, batch_size=batch_size, nb_frames=nb_frames, skip=skip, has_ext=True)\\ngen_val = gen.flow_video_from_dataframe(data.val_df, path_vid, path_classes=path_labels, x_col='video id', y_col='labels', target_size=target_size, batch_size=batch_size, nb_frames=nb_frames, skip=skip, has_ext=True)\\n\""
      ]
     },
     "execution_count": 10,
     "metadata": {},
     "output_type": "execute_result"
    }
   ],
   "source": [
    "gen = img.ImageDataGenerator()\n",
    "if hasattr(data, 'train_df'):\n",
    "    gen_train = gen.flow_video_from_dataframe(\n",
    "        data.train_df,\n",
    "        path_vid,\n",
    "        path_classes=path_labels,\n",
    "        x_col='video_id',\n",
    "        y_col='label',\n",
    "        target_size=target_size,\n",
    "        batch_size=batch_size,\n",
    "        nb_frames=nb_frames,\n",
    "        skip=skip,\n",
    "        has_ext=True\n",
    "    )\n",
    "else:\n",
    "    print(\"train_df not found in DataLoader\")\n",
    "\n",
    "if hasattr(data, 'val_df'):\n",
    "    gen_val = gen.flow_video_from_dataframe(\n",
    "        data.val_df,\n",
    "        path_vid,\n",
    "        path_classes=path_labels,\n",
    "        x_col='video_id',\n",
    "        y_col='label',\n",
    "        target_size=target_size,\n",
    "        batch_size=batch_size,\n",
    "        nb_frames=nb_frames,\n",
    "        skip=skip,\n",
    "        has_ext=True\n",
    "    )\n",
    "else:\n",
    "    print(\"val_df not found in DataLoader\")\n",
    "'''\n",
    "gen_train = gen.flow_video_from_dataframe(data.train_df, path_vid, path_classes=path_labels, x_col='video id', y_col='labels', target_size=target_size, batch_size=batch_size, nb_frames=nb_frames, skip=skip, has_ext=True)\n",
    "gen_val = gen.flow_video_from_dataframe(data.val_df, path_vid, path_classes=path_labels, x_col='video id', y_col='labels', target_size=target_size, batch_size=batch_size, nb_frames=nb_frames, skip=skip, has_ext=True)\n",
    "'''"
   ]
  },
  {
   "cell_type": "code",
   "execution_count": 11,
   "id": "364b3f45-2c7c-4b68-a1a7-ad2aa829d8b2",
   "metadata": {},
   "outputs": [
    {
     "data": {
      "text/plain": [
       "'\\nresnet_model = Resnet3DBuilder.build_resnet_101(input_shape, nb_classes, reg_factor, drop_rate = 0.5)\\noptimizer = SGD(lr=0.01, momentum=0.9, decay=0.0301, nesterov=False)\\nresnet_model.compile(optimizer = optimizer, loss = \"categorical_crossentropy\" , metrics=[\"accuracy\"])\\nmodel_file = os.path.join(path_model, \\'resnetmodel.hdf5\\')\\n'"
      ]
     },
     "execution_count": 11,
     "metadata": {},
     "output_type": "execute_result"
    }
   ],
   "source": [
    "from tensorflow.keras.optimizers import SGD\n",
    "import os\n",
    "\n",
    "input_shape = (64, 64, 64, 1)  # Example input shape (modify as needed)\n",
    "nb_classes = 10                # Example number of classes (modify as needed)\n",
    "reg_factor = 0.0001            # L2 regularization factor\n",
    "\n",
    "# Build the ResNet 101 model with the correct arguments\n",
    "resnet_model = Resnet3DBuilder.build_resnet_101(input_shape, nb_classes, reg_factor, drop_rate=0.5)\n",
    "\n",
    "# Compile the model with an optimizer\n",
    "optimizer = SGD(learning_rate=0.01, momentum=0.9, decay=0.0301, nesterov=False)\n",
    "resnet_model.compile(optimizer=optimizer, loss=\"categorical_crossentropy\", metrics=[\"accuracy\"])\n",
    "\n",
    "# Define the path where the model will be saved\n",
    "path_model = './models'  # Example path (modify as needed)\n",
    "model_file = os.path.join(path_model, 'resnetmodel.hdf5')\n",
    "\n",
    "# Now you can proceed with saving the model or training it as needed\n",
    "\n",
    "'''\n",
    "resnet_model = Resnet3DBuilder.build_resnet_101(input_shape, nb_classes, reg_factor, drop_rate = 0.5)\n",
    "optimizer = SGD(lr=0.01, momentum=0.9, decay=0.0301, nesterov=False)\n",
    "resnet_model.compile(optimizer = optimizer, loss = \"categorical_crossentropy\" , metrics=[\"accuracy\"])\n",
    "model_file = os.path.join(path_model, 'resnetmodel.hdf5')\n",
    "'''"
   ]
  },
  {
   "cell_type": "code",
   "execution_count": 12,
   "id": "82380539-cc45-43d5-a853-9314083babe7",
   "metadata": {},
   "outputs": [],
   "source": [
    "model_checkpointer = ModelCheckpoint(model_file, monitor='val_acc' , verbose=1, save_best_only=True, mode= 'max')\n"
   ]
  },
  {
   "cell_type": "code",
   "execution_count": 13,
   "id": "a3779233-d6a3-4e2c-bfbe-90ed81ba1046",
   "metadata": {},
   "outputs": [],
   "source": [
    "history_graph = HistoryGraph(model_path_name = os.path.join(path_model, \"graphs\"))"
   ]
  },
  {
   "cell_type": "code",
   "execution_count": 14,
   "id": "0c85c065-17b7-4962-9ba2-c10d5bffaa30",
   "metadata": {},
   "outputs": [],
   "source": [
    "nb_sample_train = data.train_df[\"video_id\"].size\n",
    "nb_sample_val = data.val_df[\"video_id\"].size\n",
    "\n"
   ]
  },
  {
   "cell_type": "code",
   "execution_count": 15,
   "id": "9c4f0c2a-fb83-44dd-9650-656da8840a1f",
   "metadata": {},
   "outputs": [
    {
     "ename": "FileNotFoundError",
     "evalue": "[WinError 3] The system cannot find the path specified: 'C:\\\\Users\\\\USER\\\\Documents\\\\Dataset\\\\videos\\\\121656;Pushing Two Fingers Away'",
     "output_type": "error",
     "traceback": [
      "\u001b[1;31m---------------------------------------------------------------------------\u001b[0m",
      "\u001b[1;31mFileNotFoundError\u001b[0m                         Traceback (most recent call last)",
      "Cell \u001b[1;32mIn[15], line 1\u001b[0m\n\u001b[1;32m----> 1\u001b[0m \u001b[43mresnet_model\u001b[49m\u001b[38;5;241;43m.\u001b[39;49m\u001b[43mfit\u001b[49m\u001b[43m(\u001b[49m\n\u001b[0;32m      2\u001b[0m \u001b[43m        \u001b[49m\u001b[43mgen_train\u001b[49m\u001b[43m,\u001b[49m\n\u001b[0;32m      3\u001b[0m \u001b[43m        \u001b[49m\u001b[43msteps_per_epoch\u001b[49m\u001b[38;5;241;43m=\u001b[39;49m\u001b[43mceil\u001b[49m\u001b[43m(\u001b[49m\u001b[43mnb_sample_train\u001b[49m\u001b[38;5;241;43m/\u001b[39;49m\u001b[43mbatch_size\u001b[49m\u001b[43m)\u001b[49m\u001b[43m,\u001b[49m\n\u001b[0;32m      4\u001b[0m \u001b[43m        \u001b[49m\u001b[43mepochs\u001b[49m\u001b[38;5;241;43m=\u001b[39;49m\u001b[38;5;241;43m100\u001b[39;49m\u001b[43m,\u001b[49m\n\u001b[0;32m      5\u001b[0m \u001b[43m        \u001b[49m\u001b[43mvalidation_data\u001b[49m\u001b[38;5;241;43m=\u001b[39;49m\u001b[43mgen_val\u001b[49m\u001b[43m,\u001b[49m\n\u001b[0;32m      6\u001b[0m \u001b[43m        \u001b[49m\u001b[43mvalidation_steps\u001b[49m\u001b[38;5;241;43m=\u001b[39;49m\u001b[38;5;241;43m30\u001b[39;49m\u001b[43m,\u001b[49m\n\u001b[0;32m      7\u001b[0m \u001b[43m        \u001b[49m\u001b[43mshuffle\u001b[49m\u001b[38;5;241;43m=\u001b[39;49m\u001b[38;5;28;43;01mTrue\u001b[39;49;00m\u001b[43m,\u001b[49m\n\u001b[0;32m      8\u001b[0m \u001b[43m        \u001b[49m\u001b[43mverbose\u001b[49m\u001b[38;5;241;43m=\u001b[39;49m\u001b[38;5;241;43m1\u001b[39;49m\u001b[43m,\u001b[49m\n\u001b[0;32m      9\u001b[0m \u001b[43m        \u001b[49m\u001b[43mworkers\u001b[49m\u001b[38;5;241;43m=\u001b[39;49m\u001b[43mworkers\u001b[49m\u001b[43m,\u001b[49m\n\u001b[0;32m     10\u001b[0m \u001b[43m        \u001b[49m\u001b[43mmax_queue_size\u001b[49m\u001b[38;5;241;43m=\u001b[39;49m\u001b[43mmax_queue_size\u001b[49m\u001b[43m,\u001b[49m\n\u001b[0;32m     11\u001b[0m \u001b[43m        \u001b[49m\u001b[43muse_multiprocessing\u001b[49m\u001b[38;5;241;43m=\u001b[39;49m\u001b[43muse_multiprocessing\u001b[49m\u001b[43m,\u001b[49m\n\u001b[0;32m     12\u001b[0m \u001b[43m        \u001b[49m\u001b[43mcallbacks\u001b[49m\u001b[38;5;241;43m=\u001b[39;49m\u001b[43m[\u001b[49m\u001b[43mmodel_checkpointer\u001b[49m\u001b[43m,\u001b[49m\u001b[43m \u001b[49m\u001b[43mhistory_graph\u001b[49m\u001b[43m]\u001b[49m\u001b[43m)\u001b[49m\n",
      "File \u001b[1;32m~\\anaconda3\\envs\\HandGestureRecognitionSystem\\lib\\site-packages\\keras\\utils\\traceback_utils.py:70\u001b[0m, in \u001b[0;36mfilter_traceback.<locals>.error_handler\u001b[1;34m(*args, **kwargs)\u001b[0m\n\u001b[0;32m     67\u001b[0m     filtered_tb \u001b[38;5;241m=\u001b[39m _process_traceback_frames(e\u001b[38;5;241m.\u001b[39m__traceback__)\n\u001b[0;32m     68\u001b[0m     \u001b[38;5;66;03m# To get the full stack trace, call:\u001b[39;00m\n\u001b[0;32m     69\u001b[0m     \u001b[38;5;66;03m# `tf.debugging.disable_traceback_filtering()`\u001b[39;00m\n\u001b[1;32m---> 70\u001b[0m     \u001b[38;5;28;01mraise\u001b[39;00m e\u001b[38;5;241m.\u001b[39mwith_traceback(filtered_tb) \u001b[38;5;28;01mfrom\u001b[39;00m \u001b[38;5;28;01mNone\u001b[39;00m\n\u001b[0;32m     71\u001b[0m \u001b[38;5;28;01mfinally\u001b[39;00m:\n\u001b[0;32m     72\u001b[0m     \u001b[38;5;28;01mdel\u001b[39;00m filtered_tb\n",
      "File \u001b[1;32m~\\Documents\\HandGestureRecognitionSystemProject\\Lib\\image.py:1621\u001b[0m, in \u001b[0;36mIterator.__next__\u001b[1;34m(self, *args, **kwargs)\u001b[0m\n\u001b[0;32m   1620\u001b[0m \u001b[38;5;28;01mdef\u001b[39;00m \u001b[38;5;21m__next__\u001b[39m(\u001b[38;5;28mself\u001b[39m, \u001b[38;5;241m*\u001b[39margs, \u001b[38;5;241m*\u001b[39m\u001b[38;5;241m*\u001b[39mkwargs):\n\u001b[1;32m-> 1621\u001b[0m     \u001b[38;5;28;01mreturn\u001b[39;00m \u001b[38;5;28mself\u001b[39m\u001b[38;5;241m.\u001b[39mnext(\u001b[38;5;241m*\u001b[39margs, \u001b[38;5;241m*\u001b[39m\u001b[38;5;241m*\u001b[39mkwargs)\n",
      "File \u001b[1;32m~\\Documents\\HandGestureRecognitionSystemProject\\Lib\\image.py:2264\u001b[0m, in \u001b[0;36mDataFrameIterator.next\u001b[1;34m(self)\u001b[0m\n\u001b[0;32m   2261\u001b[0m     index_array \u001b[38;5;241m=\u001b[39m \u001b[38;5;28mnext\u001b[39m(\u001b[38;5;28mself\u001b[39m\u001b[38;5;241m.\u001b[39mindex_generator)\n\u001b[0;32m   2262\u001b[0m \u001b[38;5;66;03m# The transformation of images is not under thread lock\u001b[39;00m\n\u001b[0;32m   2263\u001b[0m \u001b[38;5;66;03m# so it can be done in parallel\u001b[39;00m\n\u001b[1;32m-> 2264\u001b[0m \u001b[38;5;28;01mreturn\u001b[39;00m \u001b[38;5;28;43mself\u001b[39;49m\u001b[38;5;241;43m.\u001b[39;49m\u001b[43m_get_batches_of_transformed_samples\u001b[49m\u001b[43m(\u001b[49m\u001b[43mindex_array\u001b[49m\u001b[43m)\u001b[49m\n",
      "File \u001b[1;32m~\\Documents\\HandGestureRecognitionSystemProject\\Lib\\image.py:2203\u001b[0m, in \u001b[0;36mDataFrameIterator._get_batches_of_transformed_samples\u001b[1;34m(self, index_array)\u001b[0m\n\u001b[0;32m   2201\u001b[0m fname \u001b[38;5;241m=\u001b[39m \u001b[38;5;28mself\u001b[39m\u001b[38;5;241m.\u001b[39mfilenames[j]\n\u001b[0;32m   2202\u001b[0m folder \u001b[38;5;241m=\u001b[39m os\u001b[38;5;241m.\u001b[39mpath\u001b[38;5;241m.\u001b[39mjoin(\u001b[38;5;28mself\u001b[39m\u001b[38;5;241m.\u001b[39mdirectory, fname)\n\u001b[1;32m-> 2203\u001b[0m files \u001b[38;5;241m=\u001b[39m \u001b[38;5;28msorted\u001b[39m(\u001b[43mos\u001b[49m\u001b[38;5;241;43m.\u001b[39;49m\u001b[43mlistdir\u001b[49m\u001b[43m(\u001b[49m\u001b[43mfolder\u001b[49m\u001b[43m)\u001b[49m)\n\u001b[0;32m   2204\u001b[0m \u001b[38;5;66;03m#TODO: At the moment the number of image sample per video is given as parameter and \u001b[39;00m\n\u001b[0;32m   2205\u001b[0m \u001b[38;5;66;03m#TODO: if there are not enough frames, the remaining space will stay empty ( full of 0 )\u001b[39;00m\n\u001b[0;32m   2206\u001b[0m \u001b[38;5;28;01mfor\u001b[39;00m idx \u001b[38;5;129;01min\u001b[39;00m \u001b[38;5;28mrange\u001b[39m(\u001b[38;5;28mmin\u001b[39m(\u001b[38;5;28mlen\u001b[39m(files)\u001b[38;5;241m/\u001b[39m\u001b[38;5;241m/\u001b[39m(\u001b[38;5;241m1\u001b[39m\u001b[38;5;241m+\u001b[39m\u001b[38;5;28mself\u001b[39m\u001b[38;5;241m.\u001b[39mskip),\u001b[38;5;28mself\u001b[39m\u001b[38;5;241m.\u001b[39mnb_frames)):\n",
      "\u001b[1;31mFileNotFoundError\u001b[0m: [WinError 3] The system cannot find the path specified: 'C:\\\\Users\\\\USER\\\\Documents\\\\Dataset\\\\videos\\\\121656;Pushing Two Fingers Away'"
     ]
    }
   ],
   "source": [
    "resnet_model.fit(\n",
    "        gen_train,\n",
    "        steps_per_epoch=ceil(nb_sample_train/batch_size),\n",
    "        epochs=100,\n",
    "        validation_data=gen_val,\n",
    "        validation_steps=30,\n",
    "        shuffle=True,\n",
    "        verbose=1,\n",
    "        workers=workers,\n",
    "        max_queue_size=max_queue_size,\n",
    "        use_multiprocessing=use_multiprocessing,\n",
    "        callbacks=[model_checkpointer, history_graph])\n",
    "\n"
   ]
  },
  {
   "cell_type": "code",
   "execution_count": null,
   "id": "c226aa14-40c0-4879-a5d0-6011454b238e",
   "metadata": {},
   "outputs": [],
   "source": []
  },
  {
   "cell_type": "code",
   "execution_count": null,
   "id": "2c1ee55f-7ef3-4c9a-9b04-d30d7902890b",
   "metadata": {},
   "outputs": [],
   "source": []
  },
  {
   "cell_type": "code",
   "execution_count": null,
   "id": "b3da2dfe-3a50-4a81-9530-8fe718cd99ec",
   "metadata": {},
   "outputs": [],
   "source": []
  }
 ],
 "metadata": {
  "kernelspec": {
   "display_name": "HandGestureRecognitionSystem",
   "language": "python",
   "name": "handgesturerecognitionsystem"
  },
  "language_info": {
   "codemirror_mode": {
    "name": "ipython",
    "version": 3
   },
   "file_extension": ".py",
   "mimetype": "text/x-python",
   "name": "python",
   "nbconvert_exporter": "python",
   "pygments_lexer": "ipython3",
   "version": "3.10.13"
  }
 },
 "nbformat": 4,
 "nbformat_minor": 5
}
